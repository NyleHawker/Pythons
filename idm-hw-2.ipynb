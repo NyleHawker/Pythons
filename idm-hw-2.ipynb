{
 "cells": [
  {
   "cell_type": "code",
   "execution_count": 7,
   "id": "3a449d36-1c3c-43ef-b4bf-9fc04f6e0c70",
   "metadata": {},
   "outputs": [],
   "source": [
    "# idm assignment 2\n",
    "# Name: Em Vannin"
   ]
  },
  {
   "cell_type": "code",
   "execution_count": 8,
   "id": "0e78b847-78d9-4ff8-a916-c501b0653f1c",
   "metadata": {},
   "outputs": [],
   "source": [
    "# imports\n",
    "import math"
   ]
  },
  {
   "cell_type": "code",
   "execution_count": 9,
   "id": "854f7464-0c0c-4211-af30-cb8c832aa082",
   "metadata": {},
   "outputs": [],
   "source": [
    "# samples \n",
    "a = [0,3,4,5]\n",
    "b = [7,6,3,-1]"
   ]
  },
  {
   "cell_type": "code",
   "execution_count": 17,
   "id": "b38dcdc6-7fbc-4772-8589-85c262bc1683",
   "metadata": {},
   "outputs": [
    {
     "name": "stdout",
     "output_type": "stream",
     "text": [
      "Euclidean Distance =  9.746794344808965\n"
     ]
    }
   ],
   "source": [
    "# calculate euclidan distance between two points\n",
    "def euclidean_distance(a,b):\n",
    "    return math.dist(a,b)\n",
    "d = euclidean_distance(a, b)\n",
    "print(\"Euclidean Distance = \", d)"
   ]
  },
  {
   "cell_type": "code",
   "execution_count": 18,
   "id": "70b410c4-7814-4c43-99b4-f32757d2de6f",
   "metadata": {},
   "outputs": [
    {
     "name": "stdout",
     "output_type": "stream",
     "text": [
      "Manhattan Distance =  17\n"
     ]
    }
   ],
   "source": [
    "# calculate manhattan distance\n",
    "from scipy.spatial.distance import cityblock\n",
    "\n",
    "def manhattan_distance(a,b):\n",
    "    # use city block function\n",
    "    return cityblock(a,b)\n",
    "\n",
    "m = manhattan_distance(a, b)\n",
    "print(\"Manhattan Distance = \", m)"
   ]
  },
  {
   "cell_type": "code",
   "execution_count": 19,
   "id": "aec2152c-23a6-4b5a-ab8e-b5b336d7aca3",
   "metadata": {},
   "outputs": [
    {
     "name": "stdout",
     "output_type": "stream",
     "text": [
      "Cosine Similarity =  0.36273812505500586\n"
     ]
    }
   ],
   "source": [
    "# calculate cosine similarity between two lists\n",
    "from numpy import dot\n",
    "from numpy.linalg import norm\n",
    "\n",
    "def cosine_sim(a,b):\n",
    "    cos_sim = dot(a, b)/(norm(a)*norm(b))\n",
    "    return cos_sim\n",
    "c = cosine_sim(a,b)\n",
    "print(\"Cosine Similarity = \", c)"
   ]
  },
  {
   "cell_type": "code",
   "execution_count": 21,
   "id": "a01e1045-bfeb-44a4-8c13-a246315b015d",
   "metadata": {},
   "outputs": [
    {
     "name": "stdout",
     "output_type": "stream",
     "text": [
      "Jaccard Similarity =  0.14285714285714285\n"
     ]
    }
   ],
   "source": [
    "# calculate Jaccard similarity between two sets of vector\n",
    "def jaccard_sim(a, b):\n",
    "    # set\n",
    "    a_set = set(a)\n",
    "    b_set = set(b)\n",
    "    # intersection \n",
    "    nominator = a_set.intersection(b_set)\n",
    "    # union \n",
    "    denominator = a_set.union(b_set)\n",
    "    # similarity\n",
    "    similarity = len(nominator)/len(denominator)\n",
    "    \n",
    "    return similarity\n",
    "\n",
    "j = jaccard_sim(a,b)\n",
    "print(\"Jaccard Similarity = \", j)"
   ]
  },
  {
   "cell_type": "code",
   "execution_count": 39,
   "id": "e2f130f0-1774-4376-971a-b91510a9e30b",
   "metadata": {},
   "outputs": [],
   "source": [
    "# binary samples\n",
    "bin_a = [1,1,1,0]\n",
    "bin_b = [0,1,1,0]"
   ]
  },
  {
   "cell_type": "code",
   "execution_count": 40,
   "id": "a0faee94-537d-4ec0-b4a6-04949309bbeb",
   "metadata": {},
   "outputs": [
    {
     "name": "stdout",
     "output_type": "stream",
     "text": [
      "Simple Matching Coefficient =  0.75\n"
     ]
    }
   ],
   "source": [
    "# simple matching coefficient\n",
    "def smc(a, b):\n",
    "    n_sum = 0\n",
    "    for val1, val2 in zip(a, b):\n",
    "        if (val1 == val2):\n",
    "            n_sum += 1\n",
    "    coeff = (len(a) + len(b)) / 2\n",
    "    smc_sum = n_sum / coeff\n",
    "    return smc_sum\n",
    "\n",
    "smc_sum = smc(bin_a, bin_b)\n",
    "print(\"Simple Matching Coefficient = \", smc_sum)"
   ]
  },
  {
   "cell_type": "code",
   "execution_count": 41,
   "id": "0da1bcd1-6866-4e23-bbca-ee77c1fd3c47",
   "metadata": {},
   "outputs": [
    {
     "name": "stdout",
     "output_type": "stream",
     "text": [
      "Jaccard Coefficient =  0.6\n"
     ]
    }
   ],
   "source": [
    "# jaccard coefficient\n",
    "from sklearn.metrics import jaccard_score\n",
    "\n",
    "def jaccard_coeff(a, b):\n",
    "    return jaccard_score(a, b, average=\"micro\")\n",
    "jc = jaccard_coeff(bin_a, bin_b)\n",
    "print(\"Jaccard Coefficient = \", jc)"
   ]
  },
  {
   "cell_type": "code",
   "execution_count": null,
   "id": "c09be9cf-c49c-486d-941b-89e6a1171e99",
   "metadata": {},
   "outputs": [],
   "source": []
  }
 ],
 "metadata": {
  "kernelspec": {
   "display_name": "Python 3 (ipykernel)",
   "language": "python",
   "name": "python3"
  },
  "language_info": {
   "codemirror_mode": {
    "name": "ipython",
    "version": 3
   },
   "file_extension": ".py",
   "mimetype": "text/x-python",
   "name": "python",
   "nbconvert_exporter": "python",
   "pygments_lexer": "ipython3",
   "version": "3.9.13"
  }
 },
 "nbformat": 4,
 "nbformat_minor": 5
}
