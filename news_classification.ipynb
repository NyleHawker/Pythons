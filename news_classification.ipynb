{
 "cells": [
  {
   "cell_type": "code",
   "execution_count": 1,
   "id": "82956c78-3133-4347-83f3-434d5b0c349d",
   "metadata": {},
   "outputs": [],
   "source": [
    "# news classification\n",
    "# classifying news headlines by text classification\n",
    "\n",
    "# | class values\n",
    "\n",
    "# e, b, t, m\n",
    "\n",
    "# | attributes\n",
    "\n",
    "# title"
   ]
  },
  {
   "cell_type": "code",
   "execution_count": 2,
   "id": "c58631ce-2216-41d3-9647-f89f6164fd43",
   "metadata": {},
   "outputs": [
    {
     "name": "stderr",
     "output_type": "stream",
     "text": [
      "[nltk_data] Downloading package wordnet to\n",
      "[nltk_data]     C:\\Users\\Administrator\\AppData\\Roaming\\nltk_data...\n",
      "[nltk_data]   Package wordnet is already up-to-date!\n",
      "[nltk_data] Downloading package omw-1.4 to\n",
      "[nltk_data]     C:\\Users\\Administrator\\AppData\\Roaming\\nltk_data...\n",
      "[nltk_data]   Package omw-1.4 is already up-to-date!\n",
      "[nltk_data] Downloading package punkt to\n",
      "[nltk_data]     C:\\Users\\Administrator\\AppData\\Roaming\\nltk_data...\n",
      "[nltk_data]   Package punkt is already up-to-date!\n",
      "[nltk_data] Downloading package averaged_perceptron_tagger to\n",
      "[nltk_data]     C:\\Users\\Administrator\\AppData\\Roaming\\nltk_data...\n",
      "[nltk_data]   Package averaged_perceptron_tagger is already up-to-\n",
      "[nltk_data]       date!\n"
     ]
    }
   ],
   "source": [
    "# data science libraries\n",
    "# pandas: for analyzing and manipulating datasets\\\n",
    "import pandas as pd\n",
    "# numpy: library for arrays and additional mathematical functions\n",
    "import numpy as np\n",
    "# matplotlib: data visualizer\n",
    "import matplotlib.pyplot as plt\n",
    "# texthero\n",
    "import texthero as hero\n",
    "# ntlk\n",
    "import nltk\n",
    "from nltk.stem import WordNetLemmatizer\n",
    "from nltk.tokenize import word_tokenize\n",
    "from nltk.corpus import wordnet\n",
    "\n",
    "import seaborn as sn\n",
    "\n",
    "nltk.download('wordnet')\n",
    "nltk.download('omw-1.4')\n",
    "nltk.download('punkt')\n",
    "nltk.download('averaged_perceptron_tagger')\n",
    "\n",
    "# scikit-learn: tool for predictive data analysis\n",
    "from sklearn.model_selection import train_test_split\n",
    "from sklearn import metrics\n",
    "from collections import Counter"
   ]
  },
  {
   "cell_type": "code",
   "execution_count": 3,
   "id": "0e02f32d-2d55-41d0-a8eb-9d485e2ab6be",
   "metadata": {},
   "outputs": [],
   "source": [
    "# names of columns\n",
    "col_names = ['title','category']\n",
    "# read dataset\n",
    "news_headlines = pd.read_csv('newsCorpora_with_header.csv', names=col_names, sep=\"\\t\", skiprows=[0])"
   ]
  },
  {
   "cell_type": "code",
   "execution_count": 4,
   "id": "0b6f7b76-b11b-4c26-b9c3-65ca7a6473f0",
   "metadata": {},
   "outputs": [
    {
     "data": {
      "text/html": [
       "<div>\n",
       "<style scoped>\n",
       "    .dataframe tbody tr th:only-of-type {\n",
       "        vertical-align: middle;\n",
       "    }\n",
       "\n",
       "    .dataframe tbody tr th {\n",
       "        vertical-align: top;\n",
       "    }\n",
       "\n",
       "    .dataframe thead th {\n",
       "        text-align: right;\n",
       "    }\n",
       "</style>\n",
       "<table border=\"1\" class=\"dataframe\">\n",
       "  <thead>\n",
       "    <tr style=\"text-align: right;\">\n",
       "      <th></th>\n",
       "      <th>title</th>\n",
       "      <th>category</th>\n",
       "    </tr>\n",
       "  </thead>\n",
       "  <tbody>\n",
       "    <tr>\n",
       "      <th>0</th>\n",
       "      <td>Fed official says weak data caused by weather,...</td>\n",
       "      <td>b</td>\n",
       "    </tr>\n",
       "    <tr>\n",
       "      <th>1</th>\n",
       "      <td>Fed's Charles Plosser sees high bar for change...</td>\n",
       "      <td>b</td>\n",
       "    </tr>\n",
       "    <tr>\n",
       "      <th>2</th>\n",
       "      <td>US open: Stocks fall after Fed official hints ...</td>\n",
       "      <td>b</td>\n",
       "    </tr>\n",
       "    <tr>\n",
       "      <th>3</th>\n",
       "      <td>Fed risks falling 'behind the curve', Charles ...</td>\n",
       "      <td>b</td>\n",
       "    </tr>\n",
       "    <tr>\n",
       "      <th>4</th>\n",
       "      <td>Fed's Plosser: Nasty Weather Has Curbed Job Gr...</td>\n",
       "      <td>b</td>\n",
       "    </tr>\n",
       "    <tr>\n",
       "      <th>5</th>\n",
       "      <td>Plosser: Fed May Have to Accelerate Tapering Pace</td>\n",
       "      <td>b</td>\n",
       "    </tr>\n",
       "  </tbody>\n",
       "</table>\n",
       "</div>"
      ],
      "text/plain": [
       "                                               title category\n",
       "0  Fed official says weak data caused by weather,...        b\n",
       "1  Fed's Charles Plosser sees high bar for change...        b\n",
       "2  US open: Stocks fall after Fed official hints ...        b\n",
       "3  Fed risks falling 'behind the curve', Charles ...        b\n",
       "4  Fed's Plosser: Nasty Weather Has Curbed Job Gr...        b\n",
       "5  Plosser: Fed May Have to Accelerate Tapering Pace        b"
      ]
     },
     "execution_count": 4,
     "metadata": {},
     "output_type": "execute_result"
    }
   ],
   "source": [
    "news_headlines.head(6)"
   ]
  },
  {
   "cell_type": "code",
   "execution_count": 5,
   "id": "d2d93915-4752-460d-b6b5-356adff51b4b",
   "metadata": {},
   "outputs": [
    {
     "data": {
      "text/html": [
       "<div>\n",
       "<style scoped>\n",
       "    .dataframe tbody tr th:only-of-type {\n",
       "        vertical-align: middle;\n",
       "    }\n",
       "\n",
       "    .dataframe tbody tr th {\n",
       "        vertical-align: top;\n",
       "    }\n",
       "\n",
       "    .dataframe thead th {\n",
       "        text-align: right;\n",
       "    }\n",
       "</style>\n",
       "<table border=\"1\" class=\"dataframe\">\n",
       "  <thead>\n",
       "    <tr style=\"text-align: right;\">\n",
       "      <th></th>\n",
       "      <th>title</th>\n",
       "      <th>category</th>\n",
       "    </tr>\n",
       "  </thead>\n",
       "  <tbody>\n",
       "    <tr>\n",
       "      <th>0</th>\n",
       "      <td>fed official says weak data caused weather slo...</td>\n",
       "      <td>b</td>\n",
       "    </tr>\n",
       "    <tr>\n",
       "      <th>1</th>\n",
       "      <td>fed charles plosser sees high bar change pace ...</td>\n",
       "      <td>b</td>\n",
       "    </tr>\n",
       "    <tr>\n",
       "      <th>2</th>\n",
       "      <td>us open stocks fall fed official hints acceler...</td>\n",
       "      <td>b</td>\n",
       "    </tr>\n",
       "    <tr>\n",
       "      <th>3</th>\n",
       "      <td>fed risks falling behind curve charles plosser...</td>\n",
       "      <td>b</td>\n",
       "    </tr>\n",
       "    <tr>\n",
       "      <th>4</th>\n",
       "      <td>fed plosser nasty weather curbed job growth</td>\n",
       "      <td>b</td>\n",
       "    </tr>\n",
       "    <tr>\n",
       "      <th>5</th>\n",
       "      <td>plosser fed may accelerate tapering pace</td>\n",
       "      <td>b</td>\n",
       "    </tr>\n",
       "  </tbody>\n",
       "</table>\n",
       "</div>"
      ],
      "text/plain": [
       "                                               title category\n",
       "0  fed official says weak data caused weather slo...        b\n",
       "1  fed charles plosser sees high bar change pace ...        b\n",
       "2  us open stocks fall fed official hints acceler...        b\n",
       "3  fed risks falling behind curve charles plosser...        b\n",
       "4        fed plosser nasty weather curbed job growth        b\n",
       "5           plosser fed may accelerate tapering pace        b"
      ]
     },
     "execution_count": 5,
     "metadata": {},
     "output_type": "execute_result"
    }
   ],
   "source": [
    "# preprocessing the headlines\n",
    "# clean command: lowercase, remove accents, remove punctuations, remove stop words, remove digits, fill NA, remove white space\n",
    "news_headlines['title'] = hero.clean(news_headlines['title'])\n",
    "news_headlines.head(6)"
   ]
  },
  {
   "cell_type": "code",
   "execution_count": 6,
   "id": "3659bac2-4d30-41af-a050-850a84179bce",
   "metadata": {},
   "outputs": [
    {
     "data": {
      "text/plain": [
       "0    fed official say weak data caused weather slow...\n",
       "1    fed charles plosser see high bar change pace t...\n",
       "2    u open stock fall fed official hint accelerate...\n",
       "3    fed risk falling behind curve charles plosser say\n",
       "4          fed plosser nasty weather curbed job growth\n",
       "Name: title, dtype: object"
      ]
     },
     "execution_count": 6,
     "metadata": {},
     "output_type": "execute_result"
    }
   ],
   "source": [
    "# lemmatizer\n",
    "wl = WordNetLemmatizer()\n",
    "\n",
    "def word_lemmatizer(text):\n",
    "    tokens = nltk.word_tokenize(text)\n",
    "    tokens = [wl.lemmatize(token) for token in tokens]\n",
    "    return ' '.join(tokens)\n",
    "\n",
    "news_headlines['title'] = news_headlines['title'].apply(word_lemmatizer)\n",
    "news_headlines['title'].head(5)"
   ]
  },
  {
   "cell_type": "code",
   "execution_count": 7,
   "id": "9498d13a-d086-4367-8799-74a695a47c8f",
   "metadata": {},
   "outputs": [
    {
     "data": {
      "text/plain": [
       "title       422937\n",
       "category    422937\n",
       "dtype: int64"
      ]
     },
     "execution_count": 7,
     "metadata": {},
     "output_type": "execute_result"
    }
   ],
   "source": [
    "# check for numbers of set\n",
    "news_headlines.count()"
   ]
  },
  {
   "cell_type": "code",
   "execution_count": 8,
   "id": "c17b5a85-d463-49ba-a069-22428a1e845b",
   "metadata": {},
   "outputs": [
    {
     "data": {
      "text/plain": [
       "title       0\n",
       "category    0\n",
       "dtype: int64"
      ]
     },
     "execution_count": 8,
     "metadata": {},
     "output_type": "execute_result"
    }
   ],
   "source": [
    "# check for missing values\n",
    "news_headlines.isna().sum()"
   ]
  },
  {
   "cell_type": "code",
   "execution_count": 9,
   "id": "c018de11-c7c4-4cb4-8589-ec93f1b4a7db",
   "metadata": {},
   "outputs": [],
   "source": [
    "# check for targets distribution \n",
    "b = news_headlines[news_headlines['category']=='b']\n",
    "t = news_headlines[news_headlines['category']=='t']\n",
    "e = news_headlines[news_headlines['category']=='e']\n",
    "m = news_headlines[news_headlines['category']=='m']\n",
    "category = news_headlines['category']"
   ]
  },
  {
   "cell_type": "code",
   "execution_count": 10,
   "id": "13f31e3d-b432-46cc-b2bc-0f534911f8f5",
   "metadata": {},
   "outputs": [],
   "source": [
    "# set features and target from the dataset\n",
    "x = news_headlines.drop(['category'], axis=1) # features\n",
    "y = news_headlines['category'] # target"
   ]
  },
  {
   "cell_type": "code",
   "execution_count": 12,
   "id": "0a3fe33c-8bbb-46ed-83f0-ba3fb480959e",
   "metadata": {},
   "outputs": [],
   "source": [
    "# feature extraction\n",
    "from sklearn.feature_extraction.text import CountVectorizer\n",
    "from sklearn.feature_extraction.text import TfidfVectorizer\n",
    "\n",
    "# initialize count vectorizer\n",
    "cv = CountVectorizer()\n",
    "# initialize tfidf vectorizer\n",
    "tfidf = TfidfVectorizer()\n",
    "\n",
    "x = tfidf.fit_transform(news_headlines['title'])"
   ]
  },
  {
   "cell_type": "code",
   "execution_count": 13,
   "id": "c520fed2-55bf-40e0-aa8e-357d98b67d73",
   "metadata": {},
   "outputs": [],
   "source": [
    "# check for any specific word frequency \n",
    "# performance: 0.95\n",
    "c = 0\n",
    "def freq(col, word):\n",
    "    global c\n",
    "    for row in col:\n",
    "      tokens = row.split()\n",
    "      for token in tokens:\n",
    "            if token == word:\n",
    "                c += 1\n",
    "    return c\n",
    "#freq(news_headlines.title, 'zzzzz')"
   ]
  },
  {
   "cell_type": "code",
   "execution_count": 14,
   "id": "36783d03-2439-429f-a72a-4c3ff1a38277",
   "metadata": {},
   "outputs": [],
   "source": [
    "#tfidf.get_feature_names_out()"
   ]
  },
  {
   "cell_type": "code",
   "execution_count": 18,
   "id": "5553c89b-ec45-47a5-9134-916fe6157843",
   "metadata": {},
   "outputs": [],
   "source": [
    "# split the dataset into training set and test set\n",
    "# test split = 70:30\n",
    "x_train, x_test, y_train, y_test = train_test_split(x, y, test_size=0.3, shuffle=True, random_state=0)"
   ]
  },
  {
   "cell_type": "code",
   "execution_count": 26,
   "id": "5b371010-fe69-4fde-8842-9ec097c62ada",
   "metadata": {},
   "outputs": [
    {
     "data": {
      "text/plain": [
       "(296055, 45702)"
      ]
     },
     "execution_count": 26,
     "metadata": {},
     "output_type": "execute_result"
    }
   ],
   "source": [
    "x_train.shape"
   ]
  },
  {
   "cell_type": "code",
   "execution_count": 27,
   "id": "6f957527-2f8d-4a3d-be80-635235d8a553",
   "metadata": {},
   "outputs": [],
   "source": [
    "# feature selection\n",
    "from sklearn.feature_selection import VarianceThreshold\n",
    "selection = VarianceThreshold(threshold=0.001)\n",
    "x_train = selection.fit_transform(x_train)\n",
    "x_test = selection.fit_transform(x_test)"
   ]
  },
  {
   "cell_type": "code",
   "execution_count": 28,
   "id": "f390226f-baee-4d75-9b0f-43778d07ccb1",
   "metadata": {},
   "outputs": [
    {
     "data": {
      "text/plain": [
       "(296055, 40)"
      ]
     },
     "execution_count": 28,
     "metadata": {},
     "output_type": "execute_result"
    }
   ],
   "source": [
    "x_train.shape"
   ]
  },
  {
   "cell_type": "code",
   "execution_count": 15,
   "id": "aebde933-db13-4b24-b9b2-88ae3c3c484b",
   "metadata": {},
   "outputs": [],
   "source": [
    "# oversampling using randomoversampler\n",
    "from imblearn.over_sampling import RandomOverSampler\n",
    "over_sampler = RandomOverSampler(random_state=42)\n",
    "\n",
    "x_res, y_res = over_sampler.fit_resample(x_train, y_train)"
   ]
  },
  {
   "cell_type": "code",
   "execution_count": 16,
   "id": "f3db281d-04f9-4e16-bce2-922303538d12",
   "metadata": {},
   "outputs": [
    {
     "name": "stdout",
     "output_type": "stream",
     "text": [
      "Normal Class Distribution:  Counter({'e': 106983, 'b': 80855, 't': 76344, 'm': 31873})\n",
      "Oversamplings:  Counter({'t': 106983, 'e': 106983, 'b': 106983, 'm': 106983})\n"
     ]
    }
   ],
   "source": [
    "# normal class distribution\n",
    "print('Normal Class Distribution: ', Counter(y_train))\n",
    "# oversamplings\n",
    "print('Oversamplings: ', Counter(y_res))"
   ]
  },
  {
   "cell_type": "code",
   "execution_count": 17,
   "id": "bf9299ec-89d1-41de-80e5-f763a9391f51",
   "metadata": {},
   "outputs": [],
   "source": [
    "# import classification report\n",
    "from sklearn.metrics import classification_report\n",
    "targets = ['business','entertainment','health','science & technology']"
   ]
  },
  {
   "cell_type": "code",
   "execution_count": 18,
   "id": "dd195d13-c353-4ba4-8c8b-6159d196cb7b",
   "metadata": {},
   "outputs": [],
   "source": [
    "# import decision tree classifier\n",
    "# classification tree for categorical dataset\n",
    "from sklearn.tree import DecisionTreeClassifier\n",
    "dtc = DecisionTreeClassifier(criterion='gini') # dtc classifier instatiated\n",
    "\n",
    "# oversamplings class distribution\n",
    "# start generating model\n",
    "dtc = dtc.fit(x_res, y_res)\n",
    "# model evaluation\n",
    "y_pred = dtc.predict(x_test)"
   ]
  },
  {
   "cell_type": "code",
   "execution_count": 19,
   "id": "a6e210a2-595e-4b9b-a2d8-23b8eb8c1b66",
   "metadata": {},
   "outputs": [
    {
     "name": "stdout",
     "output_type": "stream",
     "text": [
      "Accuracy:  91.03 %\n",
      "                      precision    recall  f1-score   support\n",
      "\n",
      "            business       0.89      0.89      0.89     35112\n",
      "       entertainment       0.94      0.94      0.94     45845\n",
      "              health       0.87      0.89      0.88     13766\n",
      "science & technology       0.90      0.89      0.90     32159\n",
      "\n",
      "            accuracy                           0.91    126882\n",
      "           macro avg       0.90      0.90      0.90    126882\n",
      "        weighted avg       0.91      0.91      0.91    126882\n",
      "\n"
     ]
    }
   ],
   "source": [
    "# check for model accuracy, precision, and recall\n",
    "# accuracy score %\n",
    "score = metrics.accuracy_score(y_test, y_pred);\n",
    "\n",
    "print('Accuracy: ', round(score * 100, 2), '%')\n",
    "print(classification_report(y_test,y_pred, target_names=targets))"
   ]
  },
  {
   "cell_type": "code",
   "execution_count": 20,
   "id": "9c543245-7bda-4465-9f18-88ba620e0cb6",
   "metadata": {},
   "outputs": [],
   "source": [
    "# import naive bayes classifier\n",
    "# multinomial naive bayes classifier for text \n",
    "from sklearn.naive_bayes import MultinomialNB\n",
    "\n",
    "nb = MultinomialNB()\n",
    "nb = nb.fit(x_res, y_res)\n",
    "mnb_y_pred = nb.predict(x_test)"
   ]
  },
  {
   "cell_type": "code",
   "execution_count": 21,
   "id": "cc151f56-0e55-46f9-89a4-5ea860fe6916",
   "metadata": {},
   "outputs": [
    {
     "name": "stdout",
     "output_type": "stream",
     "text": [
      "Accuracy:  92.51 %\n",
      "                      precision    recall  f1-score   support\n",
      "\n",
      "            business       0.91      0.90      0.90     35112\n",
      "       entertainment       0.97      0.96      0.96     45845\n",
      "              health       0.88      0.94      0.91     13766\n",
      "science & technology       0.90      0.90      0.90     32159\n",
      "\n",
      "            accuracy                           0.93    126882\n",
      "           macro avg       0.91      0.92      0.92    126882\n",
      "        weighted avg       0.93      0.93      0.93    126882\n",
      "\n"
     ]
    }
   ],
   "source": [
    "# check for model accuracy, precision, and recall\n",
    "# accuracy score %\n",
    "score = metrics.accuracy_score(y_test, mnb_y_pred);\n",
    "\n",
    "print('Accuracy: ', round(score * 100, 2), '%')\n",
    "print(classification_report(y_test, mnb_y_pred, target_names=targets))"
   ]
  },
  {
   "cell_type": "code",
   "execution_count": null,
   "id": "87933fd8-f41b-48f2-b76e-03d65076ba2a",
   "metadata": {},
   "outputs": [],
   "source": [
    "# import eural networking classifier\n",
    "# multi-layer perceptron\n",
    "from sklearn.neural_network import MLPClassifier\n",
    "\n",
    "mlp = MLPClassifier(solver=\"adam\", alpha=1e-5, hidden_layer_sizes=(100,20), random_state=1, max_iter=400)\n",
    "mlp = mlp.fit(x_res, y_res)\n",
    "p_y_pred = mlp.predict(x_test)"
   ]
  },
  {
   "cell_type": "code",
   "execution_count": null,
   "id": "b2b5c16c-37fd-48cf-805a-8f7028c60b4c",
   "metadata": {},
   "outputs": [],
   "source": [
    "# check for model accuracy, precision, and recall\n",
    "# accuracy score %\n",
    "score = metrics.accuracy_score(y_test, y_pred);\n",
    "\n",
    "print('Accuracy: ', round(score * 100, 2), '%')\n",
    "print(classification_report(y_test,y_pred, target_names=targets))"
   ]
  },
  {
   "cell_type": "code",
   "execution_count": null,
   "id": "d4e94c4f-36b7-4e9a-89aa-861d7c3101b4",
   "metadata": {},
   "outputs": [],
   "source": [
    "# confusion matrix\n",
    "# import confusion matrix\n",
    "from sklearn import metrics\n",
    "cm = metrics.confusion_matrix(y_test, y_pred, labels=['b','e','m','t'])\n",
    "cm_display = metrics.ConfusionMatrixDisplay(confusion_matrix=cm, display_labels=targets)\n",
    "cm_display.plot()\n",
    "plt.show()"
   ]
  },
  {
   "cell_type": "code",
   "execution_count": null,
   "id": "074d0f66-883e-407e-8c11-1ab3be6ff13c",
   "metadata": {},
   "outputs": [],
   "source": [
    "cm_1 = metrics.confusion_matrix(y_test, mnb_y_pred)\n",
    "cm_display = metrics.ConfusionMatrixDisplay(confusion_matrix=cm_1, display_labels=targets)\n",
    "cm_display.plot()\n",
    "plt.show()"
   ]
  },
  {
   "cell_type": "code",
   "execution_count": null,
   "id": "1f8604c8-d9a2-434c-ab9b-5bc4c9d658b4",
   "metadata": {},
   "outputs": [],
   "source": []
  }
 ],
 "metadata": {
  "kernelspec": {
   "display_name": "Python 3 (ipykernel)",
   "language": "python",
   "name": "python3"
  },
  "language_info": {
   "codemirror_mode": {
    "name": "ipython",
    "version": 3
   },
   "file_extension": ".py",
   "mimetype": "text/x-python",
   "name": "python",
   "nbconvert_exporter": "python",
   "pygments_lexer": "ipython3",
   "version": "3.9.13"
  }
 },
 "nbformat": 4,
 "nbformat_minor": 5
}
